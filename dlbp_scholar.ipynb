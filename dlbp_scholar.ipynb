{
 "nbformat": 4,
 "nbformat_minor": 2,
 "metadata": {
  "language_info": {
   "name": "python",
   "codemirror_mode": {
    "name": "ipython",
    "version": 3
   },
   "version": "3.7.5-final"
  },
  "orig_nbformat": 2,
  "file_extension": ".py",
  "mimetype": "text/x-python",
  "name": "python",
  "npconvert_exporter": "python",
  "pygments_lexer": "ipython3",
  "version": 3,
  "kernelspec": {
   "name": "python37564bitspemenvvirtualenvc19cb48b34aa48d49b0caed4d6fb8c63",
   "display_name": "Python 3.7.5 64-bit ('SPEM_env': virtualenv)"
  }
 },
 "cells": [
  {
   "cell_type": "code",
   "execution_count": 1,
   "metadata": {},
   "outputs": [
    {
     "output_type": "stream",
     "name": "stdout",
     "text": "reading files\nfiles read\nlen of DBLP: 999\nlen of Scholar: 999\n"
    }
   ],
   "source": [
    "import recordlinkage\n",
    "import pandas\n",
    "\n",
    "print(\"reading files\")\n",
    "\n",
    "filepath = './datasets/%s'\n",
    "outfile = './dlbp_scholar_matches.csv'\n",
    "\n",
    "# if True, uses a smaller version of the dataset for faster computation\n",
    "debug = True\n",
    "\n",
    "filename_postfix  = ''\n",
    "if debug:\n",
    "    filename_postfix  = '_mini'\n",
    "\n",
    "dataDBLP = pandas.read_csv(filepath % ('DBLP-Scholar/DBLP1%s.csv' % filename_postfix))\n",
    "dataScholar = pandas.read_csv(filepath % 'DBLP-Scholar/Scholar%s.csv' % filename_postfix)\n",
    "\n",
    "print(\"files read\")\n",
    "print('len of DBLP: %d' % len(dataDBLP))\n",
    "print('len of Scholar: %d' % len(dataScholar))"
   ]
  },
  {
   "cell_type": "code",
   "execution_count": 2,
   "metadata": {},
   "outputs": [
    {
     "output_type": "stream",
     "name": "stdout",
     "text": "23853\ncomputing match...\n\nmatch result (1 means it's a match):\n"
    },
    {
     "output_type": "execute_result",
     "data": {
      "text/plain": "1.0       11\n0.0    23842\ndtype: int64"
     },
     "metadata": {},
     "execution_count": 2
    }
   ],
   "source": [
    "indexer = recordlinkage.Index()\n",
    "indexer.block('year')\n",
    "candidate_links = indexer.index(dataDBLP, dataScholar)\n",
    "\n",
    "# print(candidate_links)\n",
    "print(len(candidate_links))\n",
    "\n",
    "print('computing match...')\n",
    "\n",
    "compare_cl = recordlinkage.Compare()\n",
    "compare_cl.string('title', 'title', threshold=0.85, label='title_matched')\n",
    "result = compare_cl.compute(candidate_links, dataDBLP, dataScholar)\n",
    "result = result.reset_index()\n",
    "\n",
    "print()\n",
    "print('match result (1 means it\\'s a match):')\n",
    "result[\"title_matched\"].reset_index().drop(columns=[\"index\"]).sum(axis=1).value_counts().sort_index(ascending=False)\n",
    "# print(features.sum(axis=0).value_counts())"
   ]
  },
  {
   "cell_type": "code",
   "execution_count": null,
   "metadata": {},
   "outputs": [],
   "source": []
  },
  {
   "cell_type": "code",
   "execution_count": 3,
   "metadata": {},
   "outputs": [
    {
     "output_type": "execute_result",
     "data": {
      "text/plain": "       index  level_0  level_1  title_matched  dblp_index  scholar_index\n0          0        0        4            0.0           0              4\n1          1        0       15            0.0           0             15\n2          2        0       75            0.0           0             75\n3          3        0       99            0.0           0             99\n4          4        0      141            0.0           0            141\n...      ...      ...      ...            ...         ...            ...\n23848  23848      767      835            0.0         767            835\n23849  23849      767      840            0.0         767            840\n23850  23850      767      908            0.0         767            908\n23851  23851      767      912            0.0         767            912\n23852  23852      767      972            0.0         767            972\n\n[23853 rows x 6 columns]",
      "text/html": "<div>\n<style scoped>\n    .dataframe tbody tr th:only-of-type {\n        vertical-align: middle;\n    }\n\n    .dataframe tbody tr th {\n        vertical-align: top;\n    }\n\n    .dataframe thead th {\n        text-align: right;\n    }\n</style>\n<table border=\"1\" class=\"dataframe\">\n  <thead>\n    <tr style=\"text-align: right;\">\n      <th></th>\n      <th>index</th>\n      <th>level_0</th>\n      <th>level_1</th>\n      <th>title_matched</th>\n      <th>dblp_index</th>\n      <th>scholar_index</th>\n    </tr>\n  </thead>\n  <tbody>\n    <tr>\n      <th>0</th>\n      <td>0</td>\n      <td>0</td>\n      <td>4</td>\n      <td>0.0</td>\n      <td>0</td>\n      <td>4</td>\n    </tr>\n    <tr>\n      <th>1</th>\n      <td>1</td>\n      <td>0</td>\n      <td>15</td>\n      <td>0.0</td>\n      <td>0</td>\n      <td>15</td>\n    </tr>\n    <tr>\n      <th>2</th>\n      <td>2</td>\n      <td>0</td>\n      <td>75</td>\n      <td>0.0</td>\n      <td>0</td>\n      <td>75</td>\n    </tr>\n    <tr>\n      <th>3</th>\n      <td>3</td>\n      <td>0</td>\n      <td>99</td>\n      <td>0.0</td>\n      <td>0</td>\n      <td>99</td>\n    </tr>\n    <tr>\n      <th>4</th>\n      <td>4</td>\n      <td>0</td>\n      <td>141</td>\n      <td>0.0</td>\n      <td>0</td>\n      <td>141</td>\n    </tr>\n    <tr>\n      <th>...</th>\n      <td>...</td>\n      <td>...</td>\n      <td>...</td>\n      <td>...</td>\n      <td>...</td>\n      <td>...</td>\n    </tr>\n    <tr>\n      <th>23848</th>\n      <td>23848</td>\n      <td>767</td>\n      <td>835</td>\n      <td>0.0</td>\n      <td>767</td>\n      <td>835</td>\n    </tr>\n    <tr>\n      <th>23849</th>\n      <td>23849</td>\n      <td>767</td>\n      <td>840</td>\n      <td>0.0</td>\n      <td>767</td>\n      <td>840</td>\n    </tr>\n    <tr>\n      <th>23850</th>\n      <td>23850</td>\n      <td>767</td>\n      <td>908</td>\n      <td>0.0</td>\n      <td>767</td>\n      <td>908</td>\n    </tr>\n    <tr>\n      <th>23851</th>\n      <td>23851</td>\n      <td>767</td>\n      <td>912</td>\n      <td>0.0</td>\n      <td>767</td>\n      <td>912</td>\n    </tr>\n    <tr>\n      <th>23852</th>\n      <td>23852</td>\n      <td>767</td>\n      <td>972</td>\n      <td>0.0</td>\n      <td>767</td>\n      <td>972</td>\n    </tr>\n  </tbody>\n</table>\n<p>23853 rows × 6 columns</p>\n</div>"
     },
     "metadata": {},
     "execution_count": 3
    }
   ],
   "source": [
    "# postprocessing - prepare for merging with original datasets\n",
    "result = result.reset_index()\n",
    "dataDBLP = dataDBLP.reset_index()\n",
    "dataScholar = dataScholar.reset_index()\n",
    "\n",
    "result[\"dblp_index\"] = result[\"level_0\"]\n",
    "result[\"scholar_index\"] = result[\"level_1\"]\n",
    "result"
   ]
  },
  {
   "cell_type": "code",
   "execution_count": 4,
   "metadata": {},
   "outputs": [
    {
     "output_type": "execute_result",
     "data": {
      "text/plain": "       index  level_0  level_1  title_matched  dblp_index  scholar_index\n1649    1649      852      406            1.0         852            406\n2365    2365       35      729            1.0          35            729\n3150    3150      229      811            1.0         229            811\n3265    3265      245       25            1.0         245             25\n3299    3299      248      191            1.0         248            191\n6897    6897      141      370            1.0         141            370\n13000  13000      412      843            1.0         412            843\n13951  13951      417      435            1.0         417            435\n14058  14058      428      166            1.0         428            166\n15713  15713      958      295            1.0         958            295\n16121  16121      986      907            1.0         986            907",
      "text/html": "<div>\n<style scoped>\n    .dataframe tbody tr th:only-of-type {\n        vertical-align: middle;\n    }\n\n    .dataframe tbody tr th {\n        vertical-align: top;\n    }\n\n    .dataframe thead th {\n        text-align: right;\n    }\n</style>\n<table border=\"1\" class=\"dataframe\">\n  <thead>\n    <tr style=\"text-align: right;\">\n      <th></th>\n      <th>index</th>\n      <th>level_0</th>\n      <th>level_1</th>\n      <th>title_matched</th>\n      <th>dblp_index</th>\n      <th>scholar_index</th>\n    </tr>\n  </thead>\n  <tbody>\n    <tr>\n      <th>1649</th>\n      <td>1649</td>\n      <td>852</td>\n      <td>406</td>\n      <td>1.0</td>\n      <td>852</td>\n      <td>406</td>\n    </tr>\n    <tr>\n      <th>2365</th>\n      <td>2365</td>\n      <td>35</td>\n      <td>729</td>\n      <td>1.0</td>\n      <td>35</td>\n      <td>729</td>\n    </tr>\n    <tr>\n      <th>3150</th>\n      <td>3150</td>\n      <td>229</td>\n      <td>811</td>\n      <td>1.0</td>\n      <td>229</td>\n      <td>811</td>\n    </tr>\n    <tr>\n      <th>3265</th>\n      <td>3265</td>\n      <td>245</td>\n      <td>25</td>\n      <td>1.0</td>\n      <td>245</td>\n      <td>25</td>\n    </tr>\n    <tr>\n      <th>3299</th>\n      <td>3299</td>\n      <td>248</td>\n      <td>191</td>\n      <td>1.0</td>\n      <td>248</td>\n      <td>191</td>\n    </tr>\n    <tr>\n      <th>6897</th>\n      <td>6897</td>\n      <td>141</td>\n      <td>370</td>\n      <td>1.0</td>\n      <td>141</td>\n      <td>370</td>\n    </tr>\n    <tr>\n      <th>13000</th>\n      <td>13000</td>\n      <td>412</td>\n      <td>843</td>\n      <td>1.0</td>\n      <td>412</td>\n      <td>843</td>\n    </tr>\n    <tr>\n      <th>13951</th>\n      <td>13951</td>\n      <td>417</td>\n      <td>435</td>\n      <td>1.0</td>\n      <td>417</td>\n      <td>435</td>\n    </tr>\n    <tr>\n      <th>14058</th>\n      <td>14058</td>\n      <td>428</td>\n      <td>166</td>\n      <td>1.0</td>\n      <td>428</td>\n      <td>166</td>\n    </tr>\n    <tr>\n      <th>15713</th>\n      <td>15713</td>\n      <td>958</td>\n      <td>295</td>\n      <td>1.0</td>\n      <td>958</td>\n      <td>295</td>\n    </tr>\n    <tr>\n      <th>16121</th>\n      <td>16121</td>\n      <td>986</td>\n      <td>907</td>\n      <td>1.0</td>\n      <td>986</td>\n      <td>907</td>\n    </tr>\n  </tbody>\n</table>\n</div>"
     },
     "metadata": {},
     "execution_count": 4
    }
   ],
   "source": [
    "pos_match = result[result[\"title_matched\"] == 1]\n",
    "pos_match"
   ]
  },
  {
   "cell_type": "code",
   "execution_count": 5,
   "metadata": {},
   "outputs": [
    {
     "output_type": "execute_result",
     "data": {
      "text/plain": "                           id_DLBP  \\\n0   journals/sigmod/DrewHKKLLLSW95   \n1          journals/sigmod/Camps02   \n2       journals/sigmod/SommerGB02   \n3    journals/sigmod/Stonebraker02   \n4         journals/sigmod/GobleR02   \n5        journals/sigmod/ChienTZ01   \n6             conf/sigmod/KornMZ03   \n7        journals/sigmod/ShethBS99   \n8         journals/sigmod/CareyS99   \n9            conf/sigmod/AdaliSS99   \n10   conf/sigmod/KrishnamurthyBN99   \n\n                                           id_Scholar  \\\n0                                        9fcJjh5vHn8J   \n1                                        JclQFC-1s18J   \n2                                        8l5_eKZcCh8J   \n3                                        0HMk-YUh4i8J   \n4   url:http://portal.acm.org/ft_gateway.cfm%3Fid%...   \n5                                        cjBpI3TcSWsJ   \n6                                        6VAQeD6muakJ   \n7                                        NLklGN91cZgJ   \n8   url:http://portal.acm.org/ft_gateway.cfm%3Fid%...   \n9                                        c2dH5RxNj6kJ   \n10                                       qS4jhfgPbm8J   \n\n                                              title_x  \\\n0   Data and Knowledge Base Research at Hong Kong ...   \n1   From Ternary Relationship to Relational Tables...   \n2                           The n-Tier Hub Technology   \n3                                 Too Much Middleware   \n4   Report on the 18th British National Conference...   \n5                             XML Document Versioning   \n6   IPSOFACTO: A Visual Correlation Tool for Aggre...   \n7   VideoAnywhere: A System for Searching and Mana...   \n8   NSF Workshop on Industrial/Academic Cooperatio...   \n9                   A Multimedia Presentation Algebra   \n10  Bringing Object-Relational Technology to Mains...   \n\n                                              title_y  \n0   Data and Knowledge Base Research at Hong Kong ...  \n1   From Ternary Relationship to Relational Tables...  \n2                           The n-Tier Hub Technology  \n3                                 Too Much Middleware  \n4   Report on the 18th British National Conference...  \n5                             XML Document Versioning  \n6   IPSOFACTO: A Visual Correlation Tool for Aggre...  \n7   VideoAnywhere: A System for Searching and Mana...  \n8   NSF Workshop on Industrial/Academic Cooperatio...  \n9                   A Multimedia Presentation Algebra  \n10  Bringing Object-Relational Technology to Mains...  ",
      "text/html": "<div>\n<style scoped>\n    .dataframe tbody tr th:only-of-type {\n        vertical-align: middle;\n    }\n\n    .dataframe tbody tr th {\n        vertical-align: top;\n    }\n\n    .dataframe thead th {\n        text-align: right;\n    }\n</style>\n<table border=\"1\" class=\"dataframe\">\n  <thead>\n    <tr style=\"text-align: right;\">\n      <th></th>\n      <th>id_DLBP</th>\n      <th>id_Scholar</th>\n      <th>title_x</th>\n      <th>title_y</th>\n    </tr>\n  </thead>\n  <tbody>\n    <tr>\n      <th>0</th>\n      <td>journals/sigmod/DrewHKKLLLSW95</td>\n      <td>9fcJjh5vHn8J</td>\n      <td>Data and Knowledge Base Research at Hong Kong ...</td>\n      <td>Data and Knowledge Base Research at Hong Kong ...</td>\n    </tr>\n    <tr>\n      <th>1</th>\n      <td>journals/sigmod/Camps02</td>\n      <td>JclQFC-1s18J</td>\n      <td>From Ternary Relationship to Relational Tables...</td>\n      <td>From Ternary Relationship to Relational Tables...</td>\n    </tr>\n    <tr>\n      <th>2</th>\n      <td>journals/sigmod/SommerGB02</td>\n      <td>8l5_eKZcCh8J</td>\n      <td>The n-Tier Hub Technology</td>\n      <td>The n-Tier Hub Technology</td>\n    </tr>\n    <tr>\n      <th>3</th>\n      <td>journals/sigmod/Stonebraker02</td>\n      <td>0HMk-YUh4i8J</td>\n      <td>Too Much Middleware</td>\n      <td>Too Much Middleware</td>\n    </tr>\n    <tr>\n      <th>4</th>\n      <td>journals/sigmod/GobleR02</td>\n      <td>url:http://portal.acm.org/ft_gateway.cfm%3Fid%...</td>\n      <td>Report on the 18th British National Conference...</td>\n      <td>Report on the 18th British National Conference...</td>\n    </tr>\n    <tr>\n      <th>5</th>\n      <td>journals/sigmod/ChienTZ01</td>\n      <td>cjBpI3TcSWsJ</td>\n      <td>XML Document Versioning</td>\n      <td>XML Document Versioning</td>\n    </tr>\n    <tr>\n      <th>6</th>\n      <td>conf/sigmod/KornMZ03</td>\n      <td>6VAQeD6muakJ</td>\n      <td>IPSOFACTO: A Visual Correlation Tool for Aggre...</td>\n      <td>IPSOFACTO: A Visual Correlation Tool for Aggre...</td>\n    </tr>\n    <tr>\n      <th>7</th>\n      <td>journals/sigmod/ShethBS99</td>\n      <td>NLklGN91cZgJ</td>\n      <td>VideoAnywhere: A System for Searching and Mana...</td>\n      <td>VideoAnywhere: A System for Searching and Mana...</td>\n    </tr>\n    <tr>\n      <th>8</th>\n      <td>journals/sigmod/CareyS99</td>\n      <td>url:http://portal.acm.org/ft_gateway.cfm%3Fid%...</td>\n      <td>NSF Workshop on Industrial/Academic Cooperatio...</td>\n      <td>NSF Workshop on Industrial/Academic Cooperatio...</td>\n    </tr>\n    <tr>\n      <th>9</th>\n      <td>conf/sigmod/AdaliSS99</td>\n      <td>c2dH5RxNj6kJ</td>\n      <td>A Multimedia Presentation Algebra</td>\n      <td>A Multimedia Presentation Algebra</td>\n    </tr>\n    <tr>\n      <th>10</th>\n      <td>conf/sigmod/KrishnamurthyBN99</td>\n      <td>qS4jhfgPbm8J</td>\n      <td>Bringing Object-Relational Technology to Mains...</td>\n      <td>Bringing Object-Relational Technology to Mains...</td>\n    </tr>\n  </tbody>\n</table>\n</div>"
     },
     "metadata": {},
     "execution_count": 5
    }
   ],
   "source": [
    "matched_data = pos_match.merge(dataDBLP, left_on=\"dblp_index\", right_on=\"index\")\n",
    "matched_data = matched_data.merge(dataScholar, left_on=\"scholar_index\", right_on=\"index\")\n",
    "\n",
    "# cleanup\n",
    "matched_data[\"id_DLBP\"] = matched_data[\"id_x\"]\n",
    "matched_data[\"id_Scholar\"] = matched_data[\"id_y\"]\n",
    "\n",
    "matched_data_trimmed = matched_data[[\"id_DLBP\", \"id_Scholar\", \"title_x\", \"title_y\"]]\n",
    "\n",
    "matched_data_trimmed.to_csv(outfile)\n",
    "matched_data_trimmed"
   ]
  },
  {
   "cell_type": "code",
   "execution_count": null,
   "metadata": {},
   "outputs": [],
   "source": []
  }
 ]
}