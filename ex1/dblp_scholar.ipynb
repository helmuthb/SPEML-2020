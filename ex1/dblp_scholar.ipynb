{
 "cells": [
  {
   "cell_type": "markdown",
   "metadata": {},
   "source": [
    "# DBLP Scholar: Record Linkage attacks\n",
    "\n",
    "This Notebook implements a few sample record linkage attacks and calculates the accuracy, precision and recall."
   ]
  },
  {
   "cell_type": "code",
   "execution_count": 32,
   "metadata": {
    "ExecuteTime": {
     "end_time": "2020-04-23T06:57:16.155796Z",
     "start_time": "2020-04-23T06:57:15.735710Z"
    }
   },
   "outputs": [],
   "source": [
    "import recordlinkage\n",
    "import time\n",
    "from recordlinkage import compare\n",
    "# import utility functions for dealing with datasets\n",
    "from utils import read_data, clean_attributes\n",
    "\n",
    "# set debug flag:\n",
    "debug = False"
   ]
  },
  {
   "cell_type": "markdown",
   "metadata": {},
   "source": [
    "## 1. Loading the data\n",
    "\n",
    "The data is loaded from the filesystem"
   ]
  },
  {
   "cell_type": "code",
   "execution_count": 87,
   "metadata": {
    "ExecuteTime": {
     "end_time": "2020-04-23T06:57:19.839288Z",
     "start_time": "2020-04-23T06:57:16.157246Z"
    }
   },
   "outputs": [],
   "source": [
    "# read DBLP and Google Scholar dataset\n",
    "dataDBLP, dataScholar, links = read_data(\n",
    "    'DBLP1', 'Scholar', 'DBLP-Scholar_perfectMapping', debug)"
   ]
  },
  {
   "cell_type": "code",
   "execution_count": 88,
   "metadata": {
    "ExecuteTime": {
     "end_time": "2020-04-23T06:57:19.866732Z",
     "start_time": "2020-04-23T06:57:19.840665Z"
    }
   },
   "outputs": [
    {
     "output_type": "display_data",
     "data": {
      "text/plain": "                               id  \\\n0    conf/vldb/RusinkiewiczKTWM95   \n1    journals/sigmod/EisenbergM02   \n2            conf/vldb/AmmannJR95   \n3           journals/sigmod/Liu02   \n4        journals/sigmod/Hammer02   \n..                            ...   \n994           conf/sigmod/HaasH99   \n995    journals/sigmod/GeppertD94   \n996     conf/sigmod/AcharyaGPR99a   \n997        journals/sigmod/Yang94   \n998     conf/sigmod/ChaudhuriMN99   \n\n                                                 title  \\\n0    Towards a Cooperative Transaction Model - The ...   \n1                      SQL/XML is Making Good Progress   \n2    Using Formal Methods to Reason about Semantics...   \n3                                       Editor's Notes   \n4    Report on the ACM Fourth International Worksho...   \n..                                                 ...   \n994                Ripple Joins for Online Aggregation   \n995  Constructing the Next 100 Database Management ...   \n996      Join Synopses for Approximate Query Answering   \n997              A Hypertext Query Language for Images   \n998                      On Random Sampling over Joins   \n\n                                              authors              venue  year  \n0    M Rusinkiewicz, W Klas, T Tesch, J W�sch, P Muth               VLDB  1995  \n1                               A Eisenberg, J Melton      SIGMOD Record  2002  \n2                          P Ammann, S Jajodia, I Ray               VLDB  1995  \n3                                               L Liu      SIGMOD Record  2002  \n4                                                 NaN                NaN  2002  \n..                                                ...                ...   ...  \n994                             P Haas, J Hellerstein  SIGMOD Conference  1999  \n995                             A Geppert, K Dittrich      SIGMOD Record  1994  \n996      S Acharya, P Gibbons, V Poosala, S Ramaswamy  SIGMOD Conference  1999  \n997                                            L Yang      SIGMOD Record  1994  \n998               S Chaudhuri, R Motwani, V Narasayya  SIGMOD Conference  1999  \n\n[999 rows x 5 columns]",
      "text/html": "<div>\n<style scoped>\n    .dataframe tbody tr th:only-of-type {\n        vertical-align: middle;\n    }\n\n    .dataframe tbody tr th {\n        vertical-align: top;\n    }\n\n    .dataframe thead th {\n        text-align: right;\n    }\n</style>\n<table border=\"1\" class=\"dataframe\">\n  <thead>\n    <tr style=\"text-align: right;\">\n      <th></th>\n      <th>id</th>\n      <th>title</th>\n      <th>authors</th>\n      <th>venue</th>\n      <th>year</th>\n    </tr>\n  </thead>\n  <tbody>\n    <tr>\n      <th>0</th>\n      <td>conf/vldb/RusinkiewiczKTWM95</td>\n      <td>Towards a Cooperative Transaction Model - The ...</td>\n      <td>M Rusinkiewicz, W Klas, T Tesch, J W�sch, P Muth</td>\n      <td>VLDB</td>\n      <td>1995</td>\n    </tr>\n    <tr>\n      <th>1</th>\n      <td>journals/sigmod/EisenbergM02</td>\n      <td>SQL/XML is Making Good Progress</td>\n      <td>A Eisenberg, J Melton</td>\n      <td>SIGMOD Record</td>\n      <td>2002</td>\n    </tr>\n    <tr>\n      <th>2</th>\n      <td>conf/vldb/AmmannJR95</td>\n      <td>Using Formal Methods to Reason about Semantics...</td>\n      <td>P Ammann, S Jajodia, I Ray</td>\n      <td>VLDB</td>\n      <td>1995</td>\n    </tr>\n    <tr>\n      <th>3</th>\n      <td>journals/sigmod/Liu02</td>\n      <td>Editor's Notes</td>\n      <td>L Liu</td>\n      <td>SIGMOD Record</td>\n      <td>2002</td>\n    </tr>\n    <tr>\n      <th>4</th>\n      <td>journals/sigmod/Hammer02</td>\n      <td>Report on the ACM Fourth International Worksho...</td>\n      <td>NaN</td>\n      <td>NaN</td>\n      <td>2002</td>\n    </tr>\n    <tr>\n      <th>...</th>\n      <td>...</td>\n      <td>...</td>\n      <td>...</td>\n      <td>...</td>\n      <td>...</td>\n    </tr>\n    <tr>\n      <th>994</th>\n      <td>conf/sigmod/HaasH99</td>\n      <td>Ripple Joins for Online Aggregation</td>\n      <td>P Haas, J Hellerstein</td>\n      <td>SIGMOD Conference</td>\n      <td>1999</td>\n    </tr>\n    <tr>\n      <th>995</th>\n      <td>journals/sigmod/GeppertD94</td>\n      <td>Constructing the Next 100 Database Management ...</td>\n      <td>A Geppert, K Dittrich</td>\n      <td>SIGMOD Record</td>\n      <td>1994</td>\n    </tr>\n    <tr>\n      <th>996</th>\n      <td>conf/sigmod/AcharyaGPR99a</td>\n      <td>Join Synopses for Approximate Query Answering</td>\n      <td>S Acharya, P Gibbons, V Poosala, S Ramaswamy</td>\n      <td>SIGMOD Conference</td>\n      <td>1999</td>\n    </tr>\n    <tr>\n      <th>997</th>\n      <td>journals/sigmod/Yang94</td>\n      <td>A Hypertext Query Language for Images</td>\n      <td>L Yang</td>\n      <td>SIGMOD Record</td>\n      <td>1994</td>\n    </tr>\n    <tr>\n      <th>998</th>\n      <td>conf/sigmod/ChaudhuriMN99</td>\n      <td>On Random Sampling over Joins</td>\n      <td>S Chaudhuri, R Motwani, V Narasayya</td>\n      <td>SIGMOD Conference</td>\n      <td>1999</td>\n    </tr>\n  </tbody>\n</table>\n<p>999 rows × 5 columns</p>\n</div>"
     },
     "metadata": {}
    },
    {
     "output_type": "display_data",
     "data": {
      "text/plain": "               id                                              title  \\\n0    aKcZKwvwbQwJ                         11578 Sorrento Valley Road   \n1    ixKfiTHoaDoJ                Initiation of crazes in polystyrene   \n2    3BxllB4wwcIJ  Immunogold labelling is a quantitative method ...   \n3    d2WWxwKMex4J  The Burden of Infectious Disease Among Inmates...   \n4    cZCX-AQpjccJ  The Role of Faculty Advising in Science and En...   \n..            ...                                                ...   \n994  81tq2S0IGYcJ                   Have you hugged an editor today?   \n995  mzFzhewxu1UJ  Anti-self dual Lagrangians II: Unbounded non s...   \n996  tq4bpWYOcEEJ  Customer handling intermediate serverâ??an arc...   \n997  SDS7uWO7Mj4J  Modell des langwelligen Strahlungsaustauschs u...   \n998  XtNiZa9m2QwJ  Adenotonsillectomy for obstructive sleep apnoe...   \n\n                                              authors  \\\n0                                              QD Inc   \n1                               AS Argon, JG Hannoosh   \n2    GH Hansen, LL Wetterberg, H SjÃ¶strÃ¶m, O NorÃ©n   \n3                      TM Hammett, P Harmon, W Rhodes   \n4                                          JR Cogdell   \n..                                                ...   \n994                                          R Raskin   \n995                               N Ghoussoub, L Tzou   \n996                                       G Mathieson   \n997                                        C Felsmann   \n998                                   J Lim, M McKean   \n\n                                         venue    year  \n0                                   San Diego,     NaN  \n1                                   Phil. Mag,     NaN  \n2                   The Histochemical Journal,  1992.0  \n3                                          see     NaN  \n4    NEW DIRECTIONS FOR TEACHING AND LEARNING,  1995.0  \n..                                         ...     ...  \n994                               PC Magazine,     NaN  \n995                                        NaN     NaN  \n996                     BT Technology Journal,  1997.0  \n997           Technical University of Dresden,     NaN  \n998                Cochrane Database Syst Rev,  2003.0  \n\n[999 rows x 5 columns]",
      "text/html": "<div>\n<style scoped>\n    .dataframe tbody tr th:only-of-type {\n        vertical-align: middle;\n    }\n\n    .dataframe tbody tr th {\n        vertical-align: top;\n    }\n\n    .dataframe thead th {\n        text-align: right;\n    }\n</style>\n<table border=\"1\" class=\"dataframe\">\n  <thead>\n    <tr style=\"text-align: right;\">\n      <th></th>\n      <th>id</th>\n      <th>title</th>\n      <th>authors</th>\n      <th>venue</th>\n      <th>year</th>\n    </tr>\n  </thead>\n  <tbody>\n    <tr>\n      <th>0</th>\n      <td>aKcZKwvwbQwJ</td>\n      <td>11578 Sorrento Valley Road</td>\n      <td>QD Inc</td>\n      <td>San Diego,</td>\n      <td>NaN</td>\n    </tr>\n    <tr>\n      <th>1</th>\n      <td>ixKfiTHoaDoJ</td>\n      <td>Initiation of crazes in polystyrene</td>\n      <td>AS Argon, JG Hannoosh</td>\n      <td>Phil. Mag,</td>\n      <td>NaN</td>\n    </tr>\n    <tr>\n      <th>2</th>\n      <td>3BxllB4wwcIJ</td>\n      <td>Immunogold labelling is a quantitative method ...</td>\n      <td>GH Hansen, LL Wetterberg, H SjÃ¶strÃ¶m, O NorÃ©n</td>\n      <td>The Histochemical Journal,</td>\n      <td>1992.0</td>\n    </tr>\n    <tr>\n      <th>3</th>\n      <td>d2WWxwKMex4J</td>\n      <td>The Burden of Infectious Disease Among Inmates...</td>\n      <td>TM Hammett, P Harmon, W Rhodes</td>\n      <td>see</td>\n      <td>NaN</td>\n    </tr>\n    <tr>\n      <th>4</th>\n      <td>cZCX-AQpjccJ</td>\n      <td>The Role of Faculty Advising in Science and En...</td>\n      <td>JR Cogdell</td>\n      <td>NEW DIRECTIONS FOR TEACHING AND LEARNING,</td>\n      <td>1995.0</td>\n    </tr>\n    <tr>\n      <th>...</th>\n      <td>...</td>\n      <td>...</td>\n      <td>...</td>\n      <td>...</td>\n      <td>...</td>\n    </tr>\n    <tr>\n      <th>994</th>\n      <td>81tq2S0IGYcJ</td>\n      <td>Have you hugged an editor today?</td>\n      <td>R Raskin</td>\n      <td>PC Magazine,</td>\n      <td>NaN</td>\n    </tr>\n    <tr>\n      <th>995</th>\n      <td>mzFzhewxu1UJ</td>\n      <td>Anti-self dual Lagrangians II: Unbounded non s...</td>\n      <td>N Ghoussoub, L Tzou</td>\n      <td>NaN</td>\n      <td>NaN</td>\n    </tr>\n    <tr>\n      <th>996</th>\n      <td>tq4bpWYOcEEJ</td>\n      <td>Customer handling intermediate serverâ??an arc...</td>\n      <td>G Mathieson</td>\n      <td>BT Technology Journal,</td>\n      <td>1997.0</td>\n    </tr>\n    <tr>\n      <th>997</th>\n      <td>SDS7uWO7Mj4J</td>\n      <td>Modell des langwelligen Strahlungsaustauschs u...</td>\n      <td>C Felsmann</td>\n      <td>Technical University of Dresden,</td>\n      <td>NaN</td>\n    </tr>\n    <tr>\n      <th>998</th>\n      <td>XtNiZa9m2QwJ</td>\n      <td>Adenotonsillectomy for obstructive sleep apnoe...</td>\n      <td>J Lim, M McKean</td>\n      <td>Cochrane Database Syst Rev,</td>\n      <td>2003.0</td>\n    </tr>\n  </tbody>\n</table>\n<p>999 rows × 5 columns</p>\n</div>"
     },
     "metadata": {}
    },
    {
     "output_type": "display_data",
     "data": {
      "text/plain": "MultiIndex([(958, 295),\n            (211, 202),\n            (431, 735),\n            (287, 533),\n            (412, 843),\n            (986, 907),\n            (254, 850),\n            (254, 808),\n            ( 35, 729),\n            (428, 166),\n            (141, 370),\n            (852, 406),\n            (248, 191),\n            (611, 625),\n            (417, 435),\n            (229, 811),\n            (245,  25)],\n           )"
     },
     "metadata": {}
    }
   ],
   "source": [
    "# show the dataframes\n",
    "if debug:\n",
    "    display(dataDBLP)\n",
    "    display(dataScholar)\n",
    "    display(links)"
   ]
  },
  {
   "cell_type": "markdown",
   "metadata": {},
   "source": [
    "## 2. Cleaning and Pre-Processing\n",
    "\n",
    "As a first step, the data is cleaned and pre-processed."
   ]
  },
  {
   "cell_type": "code",
   "execution_count": 89,
   "metadata": {
    "ExecuteTime": {
     "end_time": "2020-04-23T06:57:19.943711Z",
     "start_time": "2020-04-23T06:57:19.867865Z"
    }
   },
   "outputs": [
    {
     "output_type": "display_data",
     "data": {
      "text/plain": "                               id  \\\n0    conf/vldb/RusinkiewiczKTWM95   \n1    journals/sigmod/EisenbergM02   \n2            conf/vldb/AmmannJR95   \n3           journals/sigmod/Liu02   \n4        journals/sigmod/Hammer02   \n..                            ...   \n994           conf/sigmod/HaasH99   \n995    journals/sigmod/GeppertD94   \n996     conf/sigmod/AcharyaGPR99a   \n997        journals/sigmod/Yang94   \n998     conf/sigmod/ChaudhuriMN99   \n\n                                                 title  \\\n0    Towards a Cooperative Transaction Model - The ...   \n1                      SQL/XML is Making Good Progress   \n2    Using Formal Methods to Reason about Semantics...   \n3                                       Editor's Notes   \n4    Report on the ACM Fourth International Worksho...   \n..                                                 ...   \n994                Ripple Joins for Online Aggregation   \n995  Constructing the Next 100 Database Management ...   \n996      Join Synopses for Approximate Query Answering   \n997              A Hypertext Query Language for Images   \n998                      On Random Sampling over Joins   \n\n                                              authors              venue  \\\n0    M Rusinkiewicz, W Klas, T Tesch, J W�sch, P Muth               VLDB   \n1                               A Eisenberg, J Melton      SIGMOD Record   \n2                          P Ammann, S Jajodia, I Ray               VLDB   \n3                                               L Liu      SIGMOD Record   \n4                                                 NaN                NaN   \n..                                                ...                ...   \n994                             P Haas, J Hellerstein  SIGMOD Conference   \n995                             A Geppert, K Dittrich      SIGMOD Record   \n996      S Acharya, P Gibbons, V Poosala, S Ramaswamy  SIGMOD Conference   \n997                                            L Yang      SIGMOD Record   \n998               S Chaudhuri, R Motwani, V Narasayya  SIGMOD Conference   \n\n     year                                        title_clean  \\\n0    1995  towards a cooperative transaction model the co...   \n1    2002                     sqlxml is making good progress   \n2    1995  using formal methods to reason about semantics...   \n3    2002                                      editors notes   \n4    2002  report on the acm fourth international worksho...   \n..    ...                                                ...   \n994  1999                ripple joins for online aggregation   \n995  1994  constructing the next 100 database management ...   \n996  1999      join synopses for approximate query answering   \n997  1994              a hypertext query language for images   \n998  1999                      on random sampling over joins   \n\n                                   authors_clean        venue_clean  \n0    m rusinkiewicz w klas t tesch j wsch p muth               vldb  \n1                           a eisenberg j melton      sigmod record  \n2                       p ammann s jajodia i ray               vldb  \n3                                          l liu      sigmod record  \n4                                            NaN                NaN  \n..                                           ...                ...  \n994                         p haas j hellerstein  sigmod conference  \n995                         a geppert k dittrich      sigmod record  \n996    s acharya p gibbons v poosala s ramaswamy  sigmod conference  \n997                                       l yang      sigmod record  \n998            s chaudhuri r motwani v narasayya  sigmod conference  \n\n[999 rows x 8 columns]",
      "text/html": "<div>\n<style scoped>\n    .dataframe tbody tr th:only-of-type {\n        vertical-align: middle;\n    }\n\n    .dataframe tbody tr th {\n        vertical-align: top;\n    }\n\n    .dataframe thead th {\n        text-align: right;\n    }\n</style>\n<table border=\"1\" class=\"dataframe\">\n  <thead>\n    <tr style=\"text-align: right;\">\n      <th></th>\n      <th>id</th>\n      <th>title</th>\n      <th>authors</th>\n      <th>venue</th>\n      <th>year</th>\n      <th>title_clean</th>\n      <th>authors_clean</th>\n      <th>venue_clean</th>\n    </tr>\n  </thead>\n  <tbody>\n    <tr>\n      <th>0</th>\n      <td>conf/vldb/RusinkiewiczKTWM95</td>\n      <td>Towards a Cooperative Transaction Model - The ...</td>\n      <td>M Rusinkiewicz, W Klas, T Tesch, J W�sch, P Muth</td>\n      <td>VLDB</td>\n      <td>1995</td>\n      <td>towards a cooperative transaction model the co...</td>\n      <td>m rusinkiewicz w klas t tesch j wsch p muth</td>\n      <td>vldb</td>\n    </tr>\n    <tr>\n      <th>1</th>\n      <td>journals/sigmod/EisenbergM02</td>\n      <td>SQL/XML is Making Good Progress</td>\n      <td>A Eisenberg, J Melton</td>\n      <td>SIGMOD Record</td>\n      <td>2002</td>\n      <td>sqlxml is making good progress</td>\n      <td>a eisenberg j melton</td>\n      <td>sigmod record</td>\n    </tr>\n    <tr>\n      <th>2</th>\n      <td>conf/vldb/AmmannJR95</td>\n      <td>Using Formal Methods to Reason about Semantics...</td>\n      <td>P Ammann, S Jajodia, I Ray</td>\n      <td>VLDB</td>\n      <td>1995</td>\n      <td>using formal methods to reason about semantics...</td>\n      <td>p ammann s jajodia i ray</td>\n      <td>vldb</td>\n    </tr>\n    <tr>\n      <th>3</th>\n      <td>journals/sigmod/Liu02</td>\n      <td>Editor's Notes</td>\n      <td>L Liu</td>\n      <td>SIGMOD Record</td>\n      <td>2002</td>\n      <td>editors notes</td>\n      <td>l liu</td>\n      <td>sigmod record</td>\n    </tr>\n    <tr>\n      <th>4</th>\n      <td>journals/sigmod/Hammer02</td>\n      <td>Report on the ACM Fourth International Worksho...</td>\n      <td>NaN</td>\n      <td>NaN</td>\n      <td>2002</td>\n      <td>report on the acm fourth international worksho...</td>\n      <td>NaN</td>\n      <td>NaN</td>\n    </tr>\n    <tr>\n      <th>...</th>\n      <td>...</td>\n      <td>...</td>\n      <td>...</td>\n      <td>...</td>\n      <td>...</td>\n      <td>...</td>\n      <td>...</td>\n      <td>...</td>\n    </tr>\n    <tr>\n      <th>994</th>\n      <td>conf/sigmod/HaasH99</td>\n      <td>Ripple Joins for Online Aggregation</td>\n      <td>P Haas, J Hellerstein</td>\n      <td>SIGMOD Conference</td>\n      <td>1999</td>\n      <td>ripple joins for online aggregation</td>\n      <td>p haas j hellerstein</td>\n      <td>sigmod conference</td>\n    </tr>\n    <tr>\n      <th>995</th>\n      <td>journals/sigmod/GeppertD94</td>\n      <td>Constructing the Next 100 Database Management ...</td>\n      <td>A Geppert, K Dittrich</td>\n      <td>SIGMOD Record</td>\n      <td>1994</td>\n      <td>constructing the next 100 database management ...</td>\n      <td>a geppert k dittrich</td>\n      <td>sigmod record</td>\n    </tr>\n    <tr>\n      <th>996</th>\n      <td>conf/sigmod/AcharyaGPR99a</td>\n      <td>Join Synopses for Approximate Query Answering</td>\n      <td>S Acharya, P Gibbons, V Poosala, S Ramaswamy</td>\n      <td>SIGMOD Conference</td>\n      <td>1999</td>\n      <td>join synopses for approximate query answering</td>\n      <td>s acharya p gibbons v poosala s ramaswamy</td>\n      <td>sigmod conference</td>\n    </tr>\n    <tr>\n      <th>997</th>\n      <td>journals/sigmod/Yang94</td>\n      <td>A Hypertext Query Language for Images</td>\n      <td>L Yang</td>\n      <td>SIGMOD Record</td>\n      <td>1994</td>\n      <td>a hypertext query language for images</td>\n      <td>l yang</td>\n      <td>sigmod record</td>\n    </tr>\n    <tr>\n      <th>998</th>\n      <td>conf/sigmod/ChaudhuriMN99</td>\n      <td>On Random Sampling over Joins</td>\n      <td>S Chaudhuri, R Motwani, V Narasayya</td>\n      <td>SIGMOD Conference</td>\n      <td>1999</td>\n      <td>on random sampling over joins</td>\n      <td>s chaudhuri r motwani v narasayya</td>\n      <td>sigmod conference</td>\n    </tr>\n  </tbody>\n</table>\n<p>999 rows × 8 columns</p>\n</div>"
     },
     "metadata": {}
    },
    {
     "output_type": "display_data",
     "data": {
      "text/plain": "               id                                              title  \\\n0    aKcZKwvwbQwJ                         11578 Sorrento Valley Road   \n1    ixKfiTHoaDoJ                Initiation of crazes in polystyrene   \n2    3BxllB4wwcIJ  Immunogold labelling is a quantitative method ...   \n3    d2WWxwKMex4J  The Burden of Infectious Disease Among Inmates...   \n4    cZCX-AQpjccJ  The Role of Faculty Advising in Science and En...   \n..            ...                                                ...   \n994  81tq2S0IGYcJ                   Have you hugged an editor today?   \n995  mzFzhewxu1UJ  Anti-self dual Lagrangians II: Unbounded non s...   \n996  tq4bpWYOcEEJ  Customer handling intermediate serverâ??an arc...   \n997  SDS7uWO7Mj4J  Modell des langwelligen Strahlungsaustauschs u...   \n998  XtNiZa9m2QwJ  Adenotonsillectomy for obstructive sleep apnoe...   \n\n                                              authors  \\\n0                                              QD Inc   \n1                               AS Argon, JG Hannoosh   \n2    GH Hansen, LL Wetterberg, H SjÃ¶strÃ¶m, O NorÃ©n   \n3                      TM Hammett, P Harmon, W Rhodes   \n4                                          JR Cogdell   \n..                                                ...   \n994                                          R Raskin   \n995                               N Ghoussoub, L Tzou   \n996                                       G Mathieson   \n997                                        C Felsmann   \n998                                   J Lim, M McKean   \n\n                                         venue    year  \\\n0                                   San Diego,     NaN   \n1                                   Phil. Mag,     NaN   \n2                   The Histochemical Journal,  1992.0   \n3                                          see     NaN   \n4    NEW DIRECTIONS FOR TEACHING AND LEARNING,  1995.0   \n..                                         ...     ...   \n994                               PC Magazine,     NaN   \n995                                        NaN     NaN   \n996                     BT Technology Journal,  1997.0   \n997           Technical University of Dresden,     NaN   \n998                Cochrane Database Syst Rev,  2003.0   \n\n                                           title_clean  \\\n0                           11578 sorrento valley road   \n1                  initiation of crazes in polystyrene   \n2    immunogold labelling is a quantitative method ...   \n3    the burden of infectious disease among inmates...   \n4    the role of faculty advising in science and en...   \n..                                                 ...   \n994                    have you hugged an editor today   \n995  anti self dual lagrangians ii unbounded non se...   \n996  customer handling intermediate serveran archit...   \n997  modell des langwelligen strahlungsaustauschs u...   \n998  adenotonsillectomy for obstructive sleep apnoe...   \n\n                               authors_clean  \\\n0                                     qd inc   \n1                       as argon jg hannoosh   \n2    gh hansen ll wetterberg h sjstrm o norn   \n3               tm hammett p harmon w rhodes   \n4                                 jr cogdell   \n..                                       ...   \n994                                 r raskin   \n995                       n ghoussoub l tzou   \n996                              g mathieson   \n997                               c felsmann   \n998                           j lim m mckean   \n\n                                  venue_clean  \n0                                   san diego  \n1                                    phil mag  \n2                   the histochemical journal  \n3                                         see  \n4    new directions for teaching and learning  \n..                                        ...  \n994                               pc magazine  \n995                                       NaN  \n996                     bt technology journal  \n997           technical university of dresden  \n998                cochrane database syst rev  \n\n[999 rows x 8 columns]",
      "text/html": "<div>\n<style scoped>\n    .dataframe tbody tr th:only-of-type {\n        vertical-align: middle;\n    }\n\n    .dataframe tbody tr th {\n        vertical-align: top;\n    }\n\n    .dataframe thead th {\n        text-align: right;\n    }\n</style>\n<table border=\"1\" class=\"dataframe\">\n  <thead>\n    <tr style=\"text-align: right;\">\n      <th></th>\n      <th>id</th>\n      <th>title</th>\n      <th>authors</th>\n      <th>venue</th>\n      <th>year</th>\n      <th>title_clean</th>\n      <th>authors_clean</th>\n      <th>venue_clean</th>\n    </tr>\n  </thead>\n  <tbody>\n    <tr>\n      <th>0</th>\n      <td>aKcZKwvwbQwJ</td>\n      <td>11578 Sorrento Valley Road</td>\n      <td>QD Inc</td>\n      <td>San Diego,</td>\n      <td>NaN</td>\n      <td>11578 sorrento valley road</td>\n      <td>qd inc</td>\n      <td>san diego</td>\n    </tr>\n    <tr>\n      <th>1</th>\n      <td>ixKfiTHoaDoJ</td>\n      <td>Initiation of crazes in polystyrene</td>\n      <td>AS Argon, JG Hannoosh</td>\n      <td>Phil. Mag,</td>\n      <td>NaN</td>\n      <td>initiation of crazes in polystyrene</td>\n      <td>as argon jg hannoosh</td>\n      <td>phil mag</td>\n    </tr>\n    <tr>\n      <th>2</th>\n      <td>3BxllB4wwcIJ</td>\n      <td>Immunogold labelling is a quantitative method ...</td>\n      <td>GH Hansen, LL Wetterberg, H SjÃ¶strÃ¶m, O NorÃ©n</td>\n      <td>The Histochemical Journal,</td>\n      <td>1992.0</td>\n      <td>immunogold labelling is a quantitative method ...</td>\n      <td>gh hansen ll wetterberg h sjstrm o norn</td>\n      <td>the histochemical journal</td>\n    </tr>\n    <tr>\n      <th>3</th>\n      <td>d2WWxwKMex4J</td>\n      <td>The Burden of Infectious Disease Among Inmates...</td>\n      <td>TM Hammett, P Harmon, W Rhodes</td>\n      <td>see</td>\n      <td>NaN</td>\n      <td>the burden of infectious disease among inmates...</td>\n      <td>tm hammett p harmon w rhodes</td>\n      <td>see</td>\n    </tr>\n    <tr>\n      <th>4</th>\n      <td>cZCX-AQpjccJ</td>\n      <td>The Role of Faculty Advising in Science and En...</td>\n      <td>JR Cogdell</td>\n      <td>NEW DIRECTIONS FOR TEACHING AND LEARNING,</td>\n      <td>1995.0</td>\n      <td>the role of faculty advising in science and en...</td>\n      <td>jr cogdell</td>\n      <td>new directions for teaching and learning</td>\n    </tr>\n    <tr>\n      <th>...</th>\n      <td>...</td>\n      <td>...</td>\n      <td>...</td>\n      <td>...</td>\n      <td>...</td>\n      <td>...</td>\n      <td>...</td>\n      <td>...</td>\n    </tr>\n    <tr>\n      <th>994</th>\n      <td>81tq2S0IGYcJ</td>\n      <td>Have you hugged an editor today?</td>\n      <td>R Raskin</td>\n      <td>PC Magazine,</td>\n      <td>NaN</td>\n      <td>have you hugged an editor today</td>\n      <td>r raskin</td>\n      <td>pc magazine</td>\n    </tr>\n    <tr>\n      <th>995</th>\n      <td>mzFzhewxu1UJ</td>\n      <td>Anti-self dual Lagrangians II: Unbounded non s...</td>\n      <td>N Ghoussoub, L Tzou</td>\n      <td>NaN</td>\n      <td>NaN</td>\n      <td>anti self dual lagrangians ii unbounded non se...</td>\n      <td>n ghoussoub l tzou</td>\n      <td>NaN</td>\n    </tr>\n    <tr>\n      <th>996</th>\n      <td>tq4bpWYOcEEJ</td>\n      <td>Customer handling intermediate serverâ??an arc...</td>\n      <td>G Mathieson</td>\n      <td>BT Technology Journal,</td>\n      <td>1997.0</td>\n      <td>customer handling intermediate serveran archit...</td>\n      <td>g mathieson</td>\n      <td>bt technology journal</td>\n    </tr>\n    <tr>\n      <th>997</th>\n      <td>SDS7uWO7Mj4J</td>\n      <td>Modell des langwelligen Strahlungsaustauschs u...</td>\n      <td>C Felsmann</td>\n      <td>Technical University of Dresden,</td>\n      <td>NaN</td>\n      <td>modell des langwelligen strahlungsaustauschs u...</td>\n      <td>c felsmann</td>\n      <td>technical university of dresden</td>\n    </tr>\n    <tr>\n      <th>998</th>\n      <td>XtNiZa9m2QwJ</td>\n      <td>Adenotonsillectomy for obstructive sleep apnoe...</td>\n      <td>J Lim, M McKean</td>\n      <td>Cochrane Database Syst Rev,</td>\n      <td>2003.0</td>\n      <td>adenotonsillectomy for obstructive sleep apnoe...</td>\n      <td>j lim m mckean</td>\n      <td>cochrane database syst rev</td>\n    </tr>\n  </tbody>\n</table>\n<p>999 rows × 8 columns</p>\n</div>"
     },
     "metadata": {}
    }
   ],
   "source": [
    "# cleaning: bring all to lowercase, remove unwanted tokens\n",
    "dataDBLP = clean_attributes(dataDBLP, ['title', 'authors', 'venue'])\n",
    "dataScholar = clean_attributes(dataScholar, ['title', 'authors', 'venue'])\n",
    "# show the dataframes\n",
    "if debug:\n",
    "    display(dataDBLP)\n",
    "    display(dataScholar)"
   ]
  },
  {
   "cell_type": "markdown",
   "metadata": {},
   "source": [
    "## 3. Indexing\n",
    "\n",
    "In the indexing step, the candidates for matches are identified.\n",
    "One option is a \"FullIndex\", where each record is compared against each other record.\n",
    "This can however take quite some time, therefore a \"BlockIndex\" or a \"SortedNeighborhood\"\n",
    "are recommended, against an attribute which promises extremely high recall in finding\n",
    "matches."
   ]
  },
  {
   "cell_type": "code",
   "execution_count": 90,
   "metadata": {
    "ExecuteTime": {
     "end_time": "2020-04-23T06:57:19.967716Z",
     "start_time": "2020-04-23T06:57:19.944856Z"
    }
   },
   "outputs": [
    {
     "output_type": "stream",
     "name": "stdout",
     "text": "Number of candidates (sortedneighbour window=3):\n74045\nNumber of candidates (sortedneighbour window=1)):\n23853\n"
    }
   ],
   "source": [
    "# using indexer on 'year'\n",
    "indexer = recordlinkage.index.SortedNeighbourhood('year')\n",
    "pairs = indexer.index(dataDBLP, dataScholar)\n",
    "if debug:\n",
    "    print(f\"Number of candidates (sortedneighbour window=3):\\n{len(pairs)}\")"
   ]
  },
  {
   "cell_type": "markdown",
   "metadata": {},
   "source": [
    "## 4. Comparing\n",
    "In the comparing step, the pairs are compared against matching attributes.\n",
    "\n",
    "Especially for the full dataset this takes some significant time (also depending on the index)"
   ]
  },
  {
   "cell_type": "code",
   "execution_count": 91,
   "metadata": {
    "ExecuteTime": {
     "end_time": "2020-04-23T07:00:24.846086Z",
     "start_time": "2020-04-23T06:57:19.968842Z"
    }
   },
   "outputs": [
    {
     "output_type": "stream",
     "name": "stdout",
     "text": "comparing took: 0.50s\n"
    }
   ],
   "source": [
    "comp = recordlinkage.Compare()\n",
    "# comp.add(compare.String('title_clean', 'title_clean'))\n",
    "# comp.add(compare.String('authors_clean', 'authors_clean'))\n",
    "# comp.add(compare.String('venue_clean', 'venue_clean'))\n",
    "comp.add(compare.String('title_clean', 'title_clean', method='jaro'))\n",
    "comp.add(compare.String('authors_clean', 'authors_clean'))\n",
    "comp.add(compare.String('venue_clean', 'venue_clean', method='jaro'))\n",
    "start = time.time()\n",
    "result = comp.compute(pairs, dataDBLP, dataScholar)\n",
    "print(\"comparing took: %.2fs\" % (time.time() - start))"
   ]
  },
  {
   "cell_type": "code",
   "execution_count": null,
   "metadata": {},
   "outputs": [],
   "source": []
  },
  {
   "cell_type": "markdown",
   "metadata": {},
   "source": [
    "## 5. Classifying\n",
    "Now we have for each pair a set of features, specifying where and how good they\n",
    "match.\n",
    "In this step we want to classify pairs into either match or non-match."
   ]
  },
  {
   "cell_type": "code",
   "execution_count": null,
   "metadata": {
    "ExecuteTime": {
     "end_time": "2020-04-23T07:00:24.851289Z",
     "start_time": "2020-04-23T07:00:24.847802Z"
    }
   },
   "outputs": [],
   "source": [
    "# simple classifier: add the values and use a threshold of 2\n",
    "matches = result[result[0]+result[1]+result[2]>2].index"
   ]
  },
  {
   "cell_type": "code",
   "execution_count": 94,
   "metadata": {
    "ExecuteTime": {
     "end_time": "2020-04-23T07:00:24.878093Z",
     "start_time": "2020-04-23T07:00:24.852444Z"
    }
   },
   "outputs": [
    {
     "output_type": "display_data",
     "data": {
      "text/plain": "                0         1         2\n98  191  0.649126  0.666667  1.000000\n229 811  1.000000  0.933333  1.000000\n245 25   1.000000  1.000000  1.000000\n141 370  1.000000  0.931034  1.000000\n412 843  1.000000  1.000000  1.000000\n958 295  1.000000  0.906250  0.784314\n986 907  1.000000  1.000000  1.000000",
      "text/html": "<div>\n<style scoped>\n    .dataframe tbody tr th:only-of-type {\n        vertical-align: middle;\n    }\n\n    .dataframe tbody tr th {\n        vertical-align: top;\n    }\n\n    .dataframe thead th {\n        text-align: right;\n    }\n</style>\n<table border=\"1\" class=\"dataframe\">\n  <thead>\n    <tr style=\"text-align: right;\">\n      <th></th>\n      <th></th>\n      <th>0</th>\n      <th>1</th>\n      <th>2</th>\n    </tr>\n  </thead>\n  <tbody>\n    <tr>\n      <th>98</th>\n      <th>191</th>\n      <td>0.649126</td>\n      <td>0.666667</td>\n      <td>1.000000</td>\n    </tr>\n    <tr>\n      <th>229</th>\n      <th>811</th>\n      <td>1.000000</td>\n      <td>0.933333</td>\n      <td>1.000000</td>\n    </tr>\n    <tr>\n      <th>245</th>\n      <th>25</th>\n      <td>1.000000</td>\n      <td>1.000000</td>\n      <td>1.000000</td>\n    </tr>\n    <tr>\n      <th>141</th>\n      <th>370</th>\n      <td>1.000000</td>\n      <td>0.931034</td>\n      <td>1.000000</td>\n    </tr>\n    <tr>\n      <th>412</th>\n      <th>843</th>\n      <td>1.000000</td>\n      <td>1.000000</td>\n      <td>1.000000</td>\n    </tr>\n    <tr>\n      <th>958</th>\n      <th>295</th>\n      <td>1.000000</td>\n      <td>0.906250</td>\n      <td>0.784314</td>\n    </tr>\n    <tr>\n      <th>986</th>\n      <th>907</th>\n      <td>1.000000</td>\n      <td>1.000000</td>\n      <td>1.000000</td>\n    </tr>\n  </tbody>\n</table>\n</div>"
     },
     "metadata": {}
    }
   ],
   "source": [
    "if debug:\n",
    "    display(matches)"
   ]
  },
  {
   "cell_type": "markdown",
   "metadata": {},
   "source": [
    "## 6. Evaluation\n",
    "\n",
    "We use again the recordlinkage package for calculating evaluation values of the results."
   ]
  },
  {
   "cell_type": "code",
   "execution_count": 95,
   "metadata": {},
   "outputs": [
    {
     "output_type": "stream",
     "name": "stdout",
     "text": "Precision: 0.8571428571428571\nRecall: 0.35294117647058826\nF-score: 0.5\n"
    },
    {
     "output_type": "display_data",
     "data": {
      "text/plain": "array([[ 6., 11.],\n       [ 1., nan]])"
     },
     "metadata": {}
    }
   ],
   "source": [
    "precision = recordlinkage.precision(links, matches)\n",
    "recall = recordlinkage.recall(links, matches)\n",
    "fscore = recordlinkage.fscore(links, matches)\n",
    "print(f\"Precision: {precision}\")\n",
    "print(f\"Recall: {recall}\")\n",
    "print(f\"F-score: {fscore}\")\n",
    "display(recordlinkage.confusion_matrix(links, matches))"
   ]
  },
  {
   "cell_type": "code",
   "execution_count": null,
   "metadata": {},
   "outputs": [],
   "source": []
  }
 ],
 "metadata": {
  "kernelspec": {
   "display_name": "Python 3.7.5 64-bit ('venv': virtualenv)",
   "language": "python",
   "name": "python37564bitvenvvirtualenv40cf9c8cff8347e5ad1faad32ca0ea1f"
  },
  "language_info": {
   "codemirror_mode": {
    "name": "ipython",
    "version": 3
   },
   "file_extension": ".py",
   "mimetype": "text/x-python",
   "name": "python",
   "nbconvert_exporter": "python",
   "pygments_lexer": "ipython3",
   "version": "3.7.5-final"
  }
 },
 "nbformat": 4,
 "nbformat_minor": 4
}